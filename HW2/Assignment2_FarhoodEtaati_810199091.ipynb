{
  "nbformat": 4,
  "nbformat_minor": 0,
  "metadata": {
    "colab": {
      "name": "ML_Assignment2.ipynb",
      "private_outputs": true,
      "provenance": [],
      "collapsed_sections": [],
      "toc_visible": true
    },
    "kernelspec": {
      "name": "python3",
      "display_name": "Python 3"
    },
    "language_info": {
      "name": "python"
    }
  },
  "cells": [
    {
      "cell_type": "markdown",
      "metadata": {
        "id": "9UYMBJoGRBac"
      },
      "source": [
        "### Imports for all parts"
      ]
    },
    {
      "cell_type": "code",
      "metadata": {
        "id": "mr-xnNXqXTVZ"
      },
      "source": [
        "import numpy as np\n",
        "import sympy as sym\n",
        "from os import close\n",
        "from mpmath.visualization import plot\n",
        "import numpy as np\n",
        "from sympy.plotting.plot import plot_parametric\n",
        "from sympy.solvers import solve, solveset\n",
        "from sympy import Symbol, lambdify\n",
        "import matplotlib.pyplot as plt\n",
        "from sympy.plotting import plot3d, plot\n",
        "from sympy.matrices import Matrix, eye, zeros, ones, diag, GramSchmidt\n",
        "from sympy import *\n",
        "import pandas as pd\n",
        "from itertools import combinations\n",
        "from sklearn.preprocessing import LabelEncoder\n",
        "import matplotlib.cm as cm\n",
        "import matplotlib.transforms as mtrans\n",
        "\n",
        "from sklearn.neighbors import NearestCentroid\n",
        "from sklearn.metrics import (confusion_matrix, plot_roc_curve,\n",
        "                             plot_confusion_matrix, roc_curve, roc_auc_score)\n",
        "from sklearn.model_selection import train_test_split\n",
        "from sklearn.metrics.pairwise import euclidean_distances\n",
        "\n"
      ],
      "execution_count": null,
      "outputs": []
    },
    {
      "cell_type": "markdown",
      "metadata": {
        "id": "mltr42mlbKPP"
      },
      "source": [
        "# Q1"
      ]
    },
    {
      "cell_type": "code",
      "metadata": {
        "id": "CMyByNTgbBWX"
      },
      "source": [
        "# Dataset definition\n",
        "\n",
        "X = [\n",
        "    [-10, -10, -8, -5, -4, -2, 0, 2, 3, 4, 5, 5, 8],\n",
        "    [-6, -5, -3, -2, -3, 1, 1, 4, 4, 3, 3, 5, 9]\n",
        "]\n",
        "\n",
        "labels = [0] * 7 + [1] * 6\n",
        "\n",
        "Y = np.array(labels)\n",
        "X = np.array(X)\n",
        "\n",
        "\n",
        "Lambda = np.array (\n",
        "    [\n",
        "     [1, 10],\n",
        "     [3, 1]\n",
        "    ]\n",
        ")\n",
        "\n",
        "p = np.array([7, 6])\n",
        "# p = p / p.sum()\n",
        "\n",
        "# Computing mean and variance for each class\n",
        "x_red = X[...,Y==1]\n",
        "x_yellow = X[...,Y==0]\n",
        "\n",
        "\n",
        "mr = x_red.mean(axis=1, keepdims=True)\n",
        "sigma_r = np.cov(x_red)\n",
        "\n",
        "my = x_yellow.mean(axis=1, keepdims=True)\n",
        "sigma_y = np.cov(x_yellow)\n",
        "\n",
        "\n",
        "print(f\"mean_red = \\n {mr} \\n Sigma_red = \\n{sigma_r}\")\n",
        "print(f\"mean_yellow = \\n{my} \\n Sigma_yellow = \\n{sigma_y}\")\n",
        "\n",
        "\n",
        "# Solving the equation for the border\n",
        "x1 = Symbol('x')\n",
        "x2 = Symbol('y')\n",
        "x = np.array([x1, x2]).reshape(-1, 1)\n",
        "\n",
        "\n",
        "fy = -1/2*(x-my).T @ np.linalg.inv(sigma_y) @ (x-my)\n",
        "fr = -1/2*(x-mr).T @ np.linalg.inv(sigma_r) @ (x-mr)\n",
        "\n",
        "fy, fr = fy[0,0], fr[0,0]\n",
        "\n",
        "\n",
        "const = np.log(p[0]/p[1] * (Lambda[0,0] - Lambda [1, 0]) / (Lambda[1, 1] - Lambda[0,1]) \\\n",
        "              * np.sqrt(np.linalg.det(sigma_r) / np.linalg.det(sigma_y)))\n",
        "\n",
        "# there are 2 solutions to the equation\n",
        "eq1, eq2 = solve(const - fy + fr, [x1,x2])\n",
        "\n",
        "\n",
        "\n",
        "\n",
        "\n",
        "\n",
        "# Plotting the decision line\n",
        "\n",
        "tx1 = 10\n",
        "tx2 = 15\n",
        "\n",
        "X1 = np.linspace(X[0,:].min() - tx1, X[0,:].max() + tx1, 100)\n",
        "X2 = np.linspace(X[1,:].min() - tx2, X[1,:].max() + tx2, 100)\n",
        "\n",
        "\n",
        "f1 = lambdify([x1, x2], eq1[0])\n",
        "f2 = lambdify([x1, x2], eq2[0])\n",
        "\n",
        "V1 = np.array([f1(0, v2) for v2 in X2])\n",
        "V2 = np.array([f2(0, v2) for v2 in X2])\n",
        "\n",
        "fig,ax = plt.subplots()\n",
        "\n",
        "ax.plot(V1, X2, label=\"eq1\", c=\"purple\")\n",
        "ax.plot(V2, X2, label=\"eq2\", c=\"navy\")\n",
        "ax.scatter(X[0, :], X[1, :], c=Y)\n",
        "\n",
        "ax.set_xlabel(\"x1\")\n",
        "ax.set_ylabel(\"x2\")\n",
        "ax.set_title(\"Datapoints and Potential Deicision Lines\")\n",
        "\n",
        "ax.legend()\n",
        "ax.set_xlim(X[0, :].min()-10, X[0, :].max() + 10)\n",
        "ax.set_ylim(X[1, :].min()-15, X[1, :].max() + 15)\n",
        "ax.grid()\n",
        "plt.show()"
      ],
      "execution_count": null,
      "outputs": []
    },
    {
      "cell_type": "markdown",
      "metadata": {
        "id": "3-N5Ce95LX1m"
      },
      "source": [
        "# Q3"
      ]
    },
    {
      "cell_type": "markdown",
      "metadata": {
        "id": "bMcqwHKAIek4"
      },
      "source": [
        "### Q3.C"
      ]
    },
    {
      "cell_type": "code",
      "metadata": {
        "id": "uGCIG00gsqta"
      },
      "source": [
        "# Solving the third part\n",
        "\n",
        "\n",
        "l = Symbol('lambda')\n",
        "\n",
        "x0 = np.array([1.0,1.0], dtype=np.longdouble).reshape(-1, 1)\n",
        "A = Matrix([\n",
        "              [1.0, 3.0],\n",
        "              [1.0, 5.0]\n",
        "              ])\n",
        "A = A = Matrix([\n",
        "              [1.0, 0.0],\n",
        "              [0.0, 1.0]\n",
        "              ])\n",
        "\n",
        "\n",
        "# The matrix that gives us xmin\n",
        "M = (eye(2) - l/2 * (A + A.T)).inv()\n",
        "\n",
        "xmin = M @ x0\n",
        "# the equation which xmin should satisfy\n",
        "eq = (xmin.T @ A @ xmin)[0,0] - 1.0\n",
        "\n",
        "\n",
        "ans = solve(eq , l)\n",
        "ans = [np.array(a, dtype=np.clongdouble) for a in ans]\n",
        "f1 = lambdify([l], xmin)\n",
        "for a in ans:\n",
        "  x = np.array(f1(a), dtype=np.clongdouble).real\n",
        "  print(a, np.linalg.norm(x - x0), x)\n"
      ],
      "execution_count": null,
      "outputs": []
    },
    {
      "cell_type": "markdown",
      "metadata": {
        "id": "0W-WlWPNhhHh"
      },
      "source": [
        "# Q6"
      ]
    },
    {
      "cell_type": "markdown",
      "metadata": {
        "id": "pCDlehhq2_cF"
      },
      "source": [
        "### Q6.A"
      ]
    },
    {
      "cell_type": "code",
      "metadata": {
        "id": "RWnmCscahfjR"
      },
      "source": [
        "\n",
        "df = pd.read_csv(\"Iris.csv\", index_col=False)\n",
        "\n",
        "elements = list(combinations(df.columns[:-1], 2))\n",
        "nrows = len(elements) // 2\n",
        "ncols = 2\n",
        "\n",
        "encoder = LabelEncoder()\n",
        "df[\"colors\"] = encoder.fit_transform(df[\"Class\"])\n",
        "\n",
        "cmap = cm.get_cmap(\"viridis\", len(encoder.classes_))\n",
        "\n",
        "fig, axes = plt.subplots(nrows, ncols, figsize=(9, 12)) \n",
        "for subplot_number ,((f1, f2), ax) in enumerate(zip(elements, axes.flat)):\n",
        "  for idx, class_ in enumerate(encoder.classes_):\n",
        "    sub_df = df.loc[df[\"colors\"] == idx]\n",
        "    ax.scatter(sub_df[f1], sub_df[f2], color=cmap(idx), label=class_)\n",
        "    ax.set_xlabel(f1)\n",
        "    ax.set_ylabel(f2)\n",
        "    ax.set_title(f\"({subplot_number + 1})\")\n",
        "\n",
        "handles, labels = ax.get_legend_handles_labels()\n",
        "fig.tight_layout(rect=(0.05, 0.05, 0.95, 0.9), h_pad=2, w_pad=0)\n",
        "fig.legend(handles, labels, loc = (0.25, 0.92), ncol=3 )\n",
        "fig.suptitle(\"Feature Space Visualization (2-Combinations).\", fontsize=18)\n",
        "\n"
      ],
      "execution_count": null,
      "outputs": []
    },
    {
      "cell_type": "markdown",
      "metadata": {
        "id": "ARbf4T2Q3DCi"
      },
      "source": [
        "### Q6.B"
      ]
    },
    {
      "cell_type": "code",
      "metadata": {
        "id": "oKR2y9M83CSW"
      },
      "source": [
        "# Splitting data into train set and test set\n",
        "np.random.seed(42)\n",
        "\n",
        "X = df[df.columns[:-2]].to_numpy()\n",
        "y = df[\"colors\"].to_numpy()\n",
        "\n",
        "indices = np.arange(len(X))\n",
        "np.random.shuffle(indices)\n",
        "X = X[indices, ...]\n",
        "y = y[indices, ...]\n",
        "split = (len(df) * 8) // 10\n",
        "\n",
        "X_train, X_test = X[:split, ...], X[split:, ...]\n",
        "y_train, y_test = y[:split, ...], y[split:, ...]"
      ],
      "execution_count": null,
      "outputs": []
    },
    {
      "cell_type": "code",
      "metadata": {
        "id": "VSDfyxXZ5WPO"
      },
      "source": [
        "# classifier for this task\n",
        "class MeanClassifier:\n",
        "  def __init__(self):\n",
        "    self.means = None\n",
        "  \n",
        "  def fit(self, X, y):\n",
        "    classes = set(y)\n",
        "    self.means = {}\n",
        "    for c in classes:\n",
        "      indices = y == c\n",
        "      self.means[c] = X[indices, ...].mean(axis=0)\n",
        "  \n",
        "  def predict(self, X):\n",
        "    y = np.zeros((X.shape[0], len(self.means)))\n",
        "    for idx, mu in enumerate(self.means.values()):\n",
        "      y[:, idx] = np.sqrt(np.sum((X - mu) ** 2, axis=1)) # Euclidean distance\n",
        "    return np.argmin(y, axis=1)\n",
        "\n",
        "\n",
        "class ConfusionMatrix:\n",
        "  def __init__(self, n_classes=3):\n",
        "    self.n_classes = n_classes\n",
        "  \n",
        "  def __call__(self, true, pred):\n",
        "    n_classes = self.n_classes\n",
        "    mat = np.zeros((n_classes, n_classes))\n",
        "    indices = np.array([true, pred])\n",
        "    # each (i, j) can be seen as a coordinate in mat\n",
        "    for i, j in zip(true, pred):\n",
        "      mat[i, j] += 1\n",
        "    return mat\n",
        "\n",
        "\n",
        "def compute_f1(mat):\n",
        "  f1 = np.zeros((len(mat),))\n",
        "  #  true predicitons are on diagonal\n",
        "  recall = np.diag(mat)/mat.sum(axis=1)\n",
        "  precision = np.diag(mat)/mat.sum(axis=0)\n",
        "  f1 = 2 * (recall * precision) / (recall + precision)\n",
        "  return f1\n",
        "\n",
        "def compute_acc(mat):\n",
        "  #  true predicitons are on diagonal\n",
        "  return np.diag(mat).sum() / mat.sum()"
      ],
      "execution_count": null,
      "outputs": []
    },
    {
      "cell_type": "code",
      "metadata": {
        "id": "mLWLom4A8rTs"
      },
      "source": [
        "clf = MeanClassifier()\n",
        "clf.fit(X_train, y_train)\n",
        "pred = clf.predict(X_test)\n",
        "conf_mat = ConfusionMatrix()(true=y_test, pred=pred)\n",
        "print(conf_mat, compute_f1(conf_mat).mean(), compute_acc(conf_mat))\n",
        "print(encoder.classes_)"
      ],
      "execution_count": null,
      "outputs": []
    },
    {
      "cell_type": "markdown",
      "metadata": {
        "id": "cJSjFuoVKwfr"
      },
      "source": [
        "### Q6.C"
      ]
    },
    {
      "cell_type": "code",
      "metadata": {
        "id": "brx9OtyMKy24"
      },
      "source": [
        "\n",
        "np.random.seed(42)\n",
        "X = df[df.columns[:-2]].to_numpy()\n",
        "y = df[\"colors\"].to_numpy()\n",
        "X_train, X_test, y_train, y_test = train_test_split(X, y, test_size=0.2, shuffle=True, random_state=42)\n",
        "\n",
        "clf = NearestCentroid()\n",
        "clf.fit(X_train, y_train)\n",
        "pred = clf.predict(X_test)\n",
        "labels_pred, labels_test = encoder.inverse_transform(pred), encoder.inverse_transform(y_test)\n",
        "conf_mat = confusion_matrix(y_true=labels_test, y_pred=labels_pred, labels=encoder.classes_)\n",
        "fig, ax  = plt.subplots(figsize=(10,10))\n",
        "plot_confusion_matrix(clf, X_test, y_test, display_labels=encoder.classes_, ax=ax)\n",
        "\n",
        "# Nearest Centroid doesn't have a predict_proba, so normalized distance is the probability\n",
        "\n",
        "fig, axes = plt.subplots(3, figsize=(8, 12))\n",
        "for idx, (ax, c) in enumerate(zip(axes.flat, encoder.classes_)):\n",
        "  y_curr = (y == idx).astype(np.int)\n",
        "  proba = euclidean_distances(X, clf.centroids_)\n",
        "  proba = np.max(proba / np.sum(proba,axis=1).reshape(-1, 1), axis=1)\n",
        "  \n",
        "  fpr, tpr, _ = roc_curve(y_curr,  proba)\n",
        "  auc = roc_auc_score(y_curr, proba)\n",
        "  ax.plot(fpr,tpr,label=\"auc=\"+str(auc))\n",
        "  ax.set_xlabel(\"FPR\")\n",
        "  ax.set_ylabel(\"TPR\")\n",
        "  ax.set_title(f\"Class: {c}\")\n",
        "\n",
        "fig.tight_layout(rect=(0.05, 0.05, 0.95, 0.95))\n",
        "fig.suptitle(\"Plotting ROC curve for different classes\", fontsize=20)\n",
        "\n",
        "\n",
        "\n"
      ],
      "execution_count": null,
      "outputs": []
    },
    {
      "cell_type": "markdown",
      "metadata": {
        "id": "Ipf9wAtjo_wS"
      },
      "source": [
        "# Q8"
      ]
    },
    {
      "cell_type": "code",
      "metadata": {
        "id": "6Y4ATk1to_W3"
      },
      "source": [
        "# Reading dataset\n",
        "df = pd.read_csv(\"quality_test.csv\", index_col=False, header=None)\n",
        "df.columns = [\"f1\", \"f2\", \"Class\"]\n",
        "\n",
        "\n",
        "X , y = df[[\"f1\", \"f2\"]].to_numpy(), df[\"Class\"].to_numpy().astype(np.int)\n",
        "\n",
        "\n",
        "def transform(X):\n",
        "  max_pow = 7\n",
        "  X1 = X[:, 0][...,np.newaxis]\n",
        "  X2 = X[:, 1][...,np.newaxis]\n",
        "  l = [X1, X2]\n",
        "  # Transforming the feature set\n",
        "  for cur_pow in range(2, max_pow+1):\n",
        "    for i in range(cur_pow, -1, -1):\n",
        "      j = cur_pow-i\n",
        "      l.append((X1**i) * (X2 **j))\n",
        "\n",
        "  X_transform = np.concatenate(l, axis=1)\n",
        "  return X_transform\n",
        "\n",
        "X_transform = transform(X)"
      ],
      "execution_count": null,
      "outputs": []
    },
    {
      "cell_type": "code",
      "metadata": {
        "id": "Ga8DTorItj5O"
      },
      "source": [
        "# Logistic Regression \n",
        "\n",
        "class LogisticRegression:\n",
        "  # Activation \n",
        "  class Sigmoid:\n",
        "    def __call__(self, z):\n",
        "      return 1 / (1 + np.exp(-z))\n",
        "  # Loss\n",
        "  class BinaryCrossEntropy:\n",
        "    def __call__(self, y_true, y_pred):\n",
        "      return -(y_true.T @ np.log(y_pred + 10e-12) + (1-y_true).T @ np.log(1-y_pred + 10e-12)).sum()\n",
        "    def der(self, y_true, y_pred):\n",
        "      return y_pred - y_true\n",
        "\n",
        "  def __init__(self, epochs = 100, lr=10e-3, l2=10e-5):\n",
        "    self.activation = LogisticRegression.Sigmoid()\n",
        "    self.loss_function = LogisticRegression.BinaryCrossEntropy()\n",
        "    self.epochs = epochs # Number of training epochs\n",
        "    self.lr = lr # Learning rate\n",
        "    self.l2 = l2 # L2 regularization rate\n",
        "\n",
        "  def fit(self, X, y):\n",
        "    self.W = np.random.normal(scale=0.2, size=(X.shape[1] + 1,1))\n",
        "    # Need to consider bias\n",
        "    Xt = np.concatenate((X, np.ones((X.shape[0], 1))), axis=1)\n",
        "    for e in range(self.epochs):\n",
        "      pred = self.activation(Xt @ self.W)\n",
        "      loss = self.loss_function(y_true=y, y_pred=pred) + (self.W ** 2).sum() * self.l2/2\n",
        "      # Summation of all gradients\n",
        "      grad = (Xt * self.loss_function.der(y_true=y, y_pred=pred)).sum(axis=0, keepdims=True).T\n",
        "      self.W -= self.lr * grad \n",
        "      self.W -= self.l2 * self.W.sum(keepdims=True)\n",
        "  \n",
        "  def predict(self, X):\n",
        "    Xt = np.concatenate((X, np.ones((X.shape[0], 1))), axis=1)\n",
        "    return (self.activation(Xt @ self.W) > 0.5).astype(np.int)\n",
        "\n",
        "  def proba(self, X):\n",
        "    Xt = np.concatenate((X, np.ones((X.shape[0], 1))), axis=1)\n",
        "    return self.activation(Xt @ self.W)\n",
        "\n",
        "X_train, X_test, y_train, y_test = train_test_split(X_transform, y, test_size=0.2, shuffle=True, random_state=42)\n",
        "\n",
        "y = y.reshape(-1, 1)\n",
        "clf = LogisticRegression()\n",
        "clf.fit(X_train, y_train)\n",
        "print(\"Train Accuracy\", (clf.predict(X_train) == y_train).astype(np.int).mean())\n",
        "print(\"Test Accuracy\", (clf.predict(X_test) == y_test).astype(np.int).mean())"
      ],
      "execution_count": null,
      "outputs": []
    },
    {
      "cell_type": "code",
      "metadata": {
        "id": "gwGyrEvm9HEl"
      },
      "source": [
        "# Limits of X for plotting\n",
        "xmin , xmax = X.min(axis=0), X.max(axis=0)\n",
        "xmin -=  0.5 * abs(xmin)\n",
        "xmax +=  0.5 * abs(xmax)\n",
        "x1range = np.arange(xmin[0], xmax[0], (xmax[0] - xmin[0])/100)\n",
        "x2range = np.arange(xmin[1], xmax[1], (xmax[1] - xmin[1])/100)\n",
        "\n",
        "# Creating a meshgrid to look at all potential values\n",
        "xx, yy = np.meshgrid(x1range, x2range)\n",
        "\n",
        "# Transforming the meshgrid into a feature matrix\n",
        "XX = np.concatenate((xx.reshape(-1, 1), yy.reshape(-1,1)), axis=1)\n",
        "XX_transform = transform(XX)\n",
        "\n",
        "# Predicting the values of meshgrid, class and probability\n",
        "preds = clf.predict(XX_transform)\n",
        "proba = clf.proba(XX_transform)\n",
        "print(preds.shape, XX_transform.shape, xx.shape)\n",
        "\n",
        "\n",
        "# Plotting\n",
        "fig, axes = plt.subplots(nrows=2, figsize=(10,10), sharex=True, sharey=True)\n",
        "\n",
        "ax = axes[0]\n",
        "ax.contourf(xx, yy, proba.reshape(xx.shape),cmap=cm.get_cmap(\"bone\"))\n",
        "ax.scatter(X[:, 0], X[:, 1], c=y, cmap=cm.get_cmap(\"bwr\",2))\n",
        "ax.set_title(\"Probability Contours\")\n",
        "ax.set_xlabel(\"F1\")\n",
        "ax.set_ylabel(\"F2\")\n",
        "\n",
        "ax = axes[1]\n",
        "ax.contourf(xx, yy, preds.reshape(xx.shape),levels=10, cmap=cm.get_cmap(\"bone\", 4))\n",
        "handles = ax.scatter(X[:, 0], X[:, 1], c=y, cmap=cm.get_cmap(\"bwr\",2))\n",
        "ax.set_title(\"Decision Boundary\")\n",
        "ax.set_xlabel(\"F1\")\n",
        "ax.set_ylabel(\"F2\")\n",
        "\n",
        "fig.suptitle(\"Decision Boundary and Probabilty Contours\", fontsize=20)\n",
        "plt.tight_layout(rect=(0.05, 0.05, 0.95, 0.95))"
      ],
      "execution_count": null,
      "outputs": []
    }
  ]
}