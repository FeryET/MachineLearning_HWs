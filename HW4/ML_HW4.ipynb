{
  "nbformat": 4,
  "nbformat_minor": 0,
  "metadata": {
    "language_info": {
      "codemirror_mode": {
        "name": "ipython",
        "version": 3
      },
      "file_extension": ".py",
      "mimetype": "text/x-python",
      "name": "python",
      "nbconvert_exporter": "python",
      "pygments_lexer": "ipython3",
      "version": "3.9.2"
    },
    "orig_nbformat": 2,
    "kernelspec": {
      "name": "python3",
      "display_name": "Python 3.9.2 64-bit ('venv': venv)"
    },
    "interpreter": {
      "hash": "5d3cdb8a7d055c85f7a324b106e89bb24fb8e3b0b6be79db7c2a56b667e1bd6e"
    },
    "colab": {
      "name": "ML_HW4.ipynb",
      "provenance": [],
      "collapsed_sections": []
    }
  },
  "cells": [
    {
      "cell_type": "code",
      "metadata": {
        "colab": {
          "base_uri": "https://localhost:8080/"
        },
        "id": "NfsKcb6F2kJ7",
        "outputId": "29e633d9-ca78-4ef4-f474-c06269a37a7c"
      },
      "source": [
        "from google.colab import drive\n",
        "drive.mount('/content/drive')\n",
        "!rm -rf data/\n",
        "!tar -xf \"/content/drive/MyDrive/Academics/Courses/Machine Learning/HW4/data.tar.gz\""
      ],
      "execution_count": 14,
      "outputs": [
        {
          "output_type": "stream",
          "text": [
            "Drive already mounted at /content/drive; to attempt to forcibly remount, call drive.mount(\"/content/drive\", force_remount=True).\n"
          ],
          "name": "stdout"
        }
      ]
    },
    {
      "cell_type": "code",
      "metadata": {
        "id": "zECDNdHo2YFO"
      },
      "source": [
        "import os\n",
        "import pandas as pd\n",
        "import numpy as np\n",
        "\n",
        "from sklearn.preprocessing import *\n",
        "from sklearn.decomposition import *\n",
        "from sklearn.neighbors import KNeighborsClassifier\n",
        "from sklearn.neighbors import KernelDensity\n",
        "from sklearn.naive_bayes import GaussianNB\n",
        "from sklearn.pipeline import Pipeline\n",
        "\n",
        "from scipy.special import gamma, factorial\n",
        "from data.FACES.imageLoader import loadImages\n",
        "\n",
        "import tensorflow as tf\n",
        "\n",
        "import multiprocessing as mp\n",
        "\n",
        "\n",
        "import matplotlib.pyplot as plt"
      ],
      "execution_count": 4,
      "outputs": []
    },
    {
      "cell_type": "code",
      "metadata": {
        "tags": [],
        "id": "c0hATqOR2YFS"
      },
      "source": [
        "class AssignmentUtils:\n",
        "    def __init__(self):\n",
        "        self.data_path = \"data\"\n",
        "\n",
        "    def load_mnist(self, prefix, reduced=False):\n",
        "        folder_name = \"Reduced Fashion-MNIST\" if reduced else \"Fashion-MNIST\"\n",
        "        image_pattern = \"{}_Data.csv\" if reduced else \"{}Data.csv\"\n",
        "        label_pattern = \"{}_Labels.csv\"if reduced else \"{}Labels.csv\"\n",
        "        prefix = prefix.capitalize() if reduced else prefix.lower()\n",
        "        \n",
        "        image_loc = os.path.join(self.data_path, \n",
        "                                folder_name,\n",
        "                                image_pattern.format(prefix))\n",
        "                                \n",
        "        label_loc = os.path.join(self.data_path, \n",
        "                                folder_name,\n",
        "                                label_pattern.format(prefix))\n",
        "             \n",
        "        image_df = pd.read_csv(image_loc, index_col=False, header=None)\n",
        "        labels_df = pd.read_csv(label_loc, index_col=False, header=None)\n",
        "        images = image_df.to_numpy()\n",
        "        labels = [l for l in labels_df[0]]\n",
        "        \n",
        "\n",
        "        data_df = pd.DataFrame([\n",
        "                                {\n",
        "                                    \"image\": im,\n",
        "                                    \"label\": l\n",
        "                                } for im, l in zip(images, labels)\n",
        "        ])\n",
        "        return data_df\n",
        "            \n",
        "    def load_faces(self, prefix_type):\n",
        "        folder = os.path.join(self.data, \"FACES\", prefix_type)\n",
        "        return loadImages(folder)\n",
        "\n",
        "\n",
        "assignment_util = AssignmentUtils()\n",
        "\n",
        "mnist_train = assignment_util.load_mnist(\"train\", reduced=False)\n",
        "mnist_test = assignment_util.load_mnist(\"test\", reduced=False)"
      ],
      "execution_count": null,
      "outputs": []
    },
    {
      "cell_type": "markdown",
      "metadata": {
        "id": "g05QgnHd2YFU"
      },
      "source": [
        "# Q8\n",
        "\n",
        "\n",
        "### Class Definitions"
      ]
    },
    {
      "cell_type": "code",
      "metadata": {
        "id": "omzPnSEN2YFU"
      },
      "source": [
        "eps = 10e-10\n",
        "\n",
        "class DensityEstimator:\n",
        "    def __init__(self):\n",
        "        pass\n",
        "    \n",
        "    def fit(self, X):\n",
        "        self._data = X.copy()\n",
        "        self.n = X.shape[0]\n",
        "        self.log_n = np.log(X.shape[0])\n",
        "        self.dim = X.shape[1]\n",
        "        \n",
        "    \n",
        "    def _sample_pdf(self, x):\n",
        "        pass\n",
        "        \n",
        "    def pdf(self, X):\n",
        "        return np.array(\n",
        "            [self._sample_pdf(X[i,:]) for i in range(X.shape[0])], dtype=np.float\n",
        "        )\n",
        "\n",
        "class ParzenDensityEstimator(DensityEstimator):\n",
        "    def __init__(self, h):\n",
        "        super().__init__()\n",
        "        self.h = h\n",
        "        self.log_h = np.log(h)\n",
        "        \n",
        "\n",
        "    def _sample_pdf(self, x):\n",
        "        k = (np.abs(x.reshape(1,-1) - self._data) < self.h/2).all(axis=-1).astype(np.float).sum(axis=0)\n",
        "        log_prob = np.log(k + eps) - self.log_n - (self.dim * self.log_h)\n",
        "        return log_prob\n",
        "        \n",
        "\n",
        "class KNNDensityEstimator(DensityEstimator):\n",
        "    def __init__(self, k):\n",
        "        super().__init__()\n",
        "        self.k = k \n",
        "        self.log_k = np.log(k)\n",
        "\n",
        "    def fit(self, X):\n",
        "        self.log_coef = (X.shape[1]/2) * np.log(np.pi) - np.log(gamma(X.shape[1]/2 + 1))\n",
        "        super().fit(X)\n",
        "\n",
        "    def _sample_pdf(self, x):\n",
        "        log_dists = 0.5 * np.log(((x.reshape(1, -1) - self._data) ** 2).sum(axis=-1))\n",
        "        sorted_log_k_dist = log_dists[np.argsort(log_dists)]\n",
        "        max_log_k_dist = sorted_log_k_dist[:self.k][-1] # Indice is one lower\n",
        "        log_r_n = self.dim * max_log_k_dist\n",
        "        log_prob = self.log_k - self.log_n - (log_r_n + self.log_coef)\n",
        "        return log_prob\n",
        "\n",
        "\n",
        "def init(_X):\n",
        "    global _mat\n",
        "    _mat = _X\n",
        "def worker_fn(estimator):\n",
        "    return estimator.pdf(_mat)\n",
        "\n",
        "\n",
        "class NaiveBayesClassifier:\n",
        "    class PDFEstimatorFactory:\n",
        "        MAPPINGS = {\n",
        "                \"parzen\": ParzenDensityEstimator,\n",
        "                \"knn\": KNNDensityEstimator,\n",
        "        }\n",
        "        @staticmethod\n",
        "        def create(pdf_type, **params):\n",
        "            return NaiveBayesClassifier.PDFEstimatorFactory.MAPPINGS[pdf_type](**params)\n",
        "\n",
        "    def __init__(self, pdf_type, **pdf_estimator_params):\n",
        "        self.pdf_type = pdf_type\n",
        "        self.pdf_estimator_params = pdf_estimator_params\n",
        "\n",
        "    def fit(self, X, y):\n",
        "        self.classes_ = sorted(set(y))\n",
        "        self.class_log_probs_ = [np.log((y == c).sum()/len(y)) for c in self.classes_]\n",
        "        self.pdf_estimators = [\n",
        "            NaiveBayesClassifier.PDFEstimatorFactory.create(self.pdf_type, \n",
        "                                       **self.pdf_estimator_params) for c in self.classes_\n",
        "        ]\n",
        "        for idx, c in enumerate(self.classes_):\n",
        "            estimator = self.pdf_estimators[idx]\n",
        "            indices = y == c\n",
        "            estimator.fit(X[indices, :])\n",
        "    \n",
        "    def predict(self, X):\n",
        "        log_probs = np.zeros((X.shape[0], len(self.classes_)), dtype=np.float)\n",
        "        with mp.Pool(mp.cpu_count(),\n",
        "                     initializer=init,\n",
        "                     initargs=(X,)) as pool:\n",
        "            \n",
        "            for idx, idx_log_probs in enumerate(pool.imap(worker_fn, self.pdf_estimators)):\n",
        "                log_probs[..., idx] = idx_log_probs + self.class_log_probs_[idx]\n",
        "\n",
        "        labels_idx = log_probs.argmax(axis=-1)\n",
        "        labels = np.array([self.classes_[l_idx] for l_idx in labels_idx])\n",
        "        return labels, log_probs"
      ],
      "execution_count": null,
      "outputs": []
    },
    {
      "cell_type": "markdown",
      "metadata": {
        "id": "7dNjLmwZHOBi"
      },
      "source": [
        "### Data preprocessing"
      ]
    },
    {
      "cell_type": "code",
      "metadata": {
        "id": "hTPb89zM2YFW",
        "colab": {
          "base_uri": "https://localhost:8080/"
        },
        "outputId": "d1bf0f36-5594-4696-cc83-e495e9a68934"
      },
      "source": [
        "X_train, y_train = mnist_train[\"image\"].to_numpy(), np.array(mnist_train[\"label\"])\n",
        "X_test, y_test = mnist_test[\"image\"].to_numpy(), np.array(mnist_test[\"label\"])\n",
        "\n",
        "X_train = np.array([x for x in X_train])\n",
        "X_test = np.array([x for x in X_test])\n",
        "\n",
        "\n",
        "reducer = Pipeline([\n",
        "                    (\"Scaler\", StandardScaler()),\n",
        "                    (\"PCA\", PCA(n_components=0.9))\n",
        "                    ])\n",
        "\n",
        "X_train = reducer.fit_transform(X_train)\n",
        "X_test = reducer.transform(X_test)\n",
        "\n",
        "\n",
        "print(np.unique(y_train, return_counts=True))\n",
        "print(X_train.shape)"
      ],
      "execution_count": null,
      "outputs": [
        {
          "output_type": "stream",
          "text": [
            "(array([0, 1, 2, 3, 4, 5, 6, 7, 8, 9]), array([6000, 6000, 6000, 6000, 6000, 6000, 6000, 6000, 6000, 6000]))\n",
            "(60000, 137)\n"
          ],
          "name": "stdout"
        }
      ]
    },
    {
      "cell_type": "markdown",
      "metadata": {
        "id": "SQ52UgfqHR2d"
      },
      "source": [
        "### Q8.A"
      ]
    },
    {
      "cell_type": "code",
      "metadata": {
        "id": "Lcv2kUzS2YFX",
        "colab": {
          "base_uri": "https://localhost:8080/",
          "height": 1000
        },
        "outputId": "be1c40d2-7cf5-4b2f-c506-4bec5649991c"
      },
      "source": [
        "h = X_train.std()\n",
        "clf = NaiveBayesClassifier(\"parzen\", h=h)\n",
        "clf.fit(X_train, y_train)\n",
        "preds, probs = clf.predict(X_test)\n",
        "\n",
        "print(f\"Accuracy of classifier on test data: {(preds == y_test).mean()}\")"
      ],
      "execution_count": null,
      "outputs": [
        {
          "output_type": "stream",
          "text": [
            "Process ForkPoolWorker-369:\n",
            "Process ForkPoolWorker-370:\n",
            "Traceback (most recent call last):\n",
            "Traceback (most recent call last):\n",
            "  File \"/usr/lib/python3.7/multiprocessing/process.py\", line 297, in _bootstrap\n",
            "    self.run()\n",
            "  File \"/usr/lib/python3.7/multiprocessing/process.py\", line 297, in _bootstrap\n",
            "    self.run()\n",
            "  File \"/usr/lib/python3.7/multiprocessing/process.py\", line 99, in run\n",
            "    self._target(*self._args, **self._kwargs)\n",
            "  File \"/usr/lib/python3.7/multiprocessing/process.py\", line 99, in run\n",
            "    self._target(*self._args, **self._kwargs)\n",
            "  File \"/usr/lib/python3.7/multiprocessing/pool.py\", line 121, in worker\n",
            "    result = (True, func(*args, **kwds))\n",
            "  File \"/usr/lib/python3.7/multiprocessing/pool.py\", line 121, in worker\n",
            "    result = (True, func(*args, **kwds))\n",
            "  File \"<ipython-input-110-782c9c2e79b5>\", line 58, in worker_fn\n",
            "    return estimator.pdf(_mat)\n",
            "  File \"<ipython-input-110-782c9c2e79b5>\", line 58, in worker_fn\n",
            "    return estimator.pdf(_mat)\n",
            "  File \"<ipython-input-110-782c9c2e79b5>\", line 19, in pdf\n",
            "    [self._sample_pdf(X[i,:]) for i in range(X.shape[0])], dtype=np.float\n",
            "  File \"<ipython-input-110-782c9c2e79b5>\", line 19, in <listcomp>\n",
            "    [self._sample_pdf(X[i,:]) for i in range(X.shape[0])], dtype=np.float\n",
            "  File \"<ipython-input-110-782c9c2e79b5>\", line 19, in pdf\n",
            "    [self._sample_pdf(X[i,:]) for i in range(X.shape[0])], dtype=np.float\n",
            "  File \"<ipython-input-110-782c9c2e79b5>\", line 30, in _sample_pdf\n",
            "    k = (np.abs(x.reshape(1,-1) - self._data) < self.h/2).all(axis=-1).astype(np.float).sum(axis=0)\n",
            "KeyboardInterrupt\n",
            "  File \"<ipython-input-110-782c9c2e79b5>\", line 19, in <listcomp>\n",
            "    [self._sample_pdf(X[i,:]) for i in range(X.shape[0])], dtype=np.float\n",
            "  File \"<ipython-input-110-782c9c2e79b5>\", line 30, in _sample_pdf\n",
            "    k = (np.abs(x.reshape(1,-1) - self._data) < self.h/2).all(axis=-1).astype(np.float).sum(axis=0)\n"
          ],
          "name": "stderr"
        },
        {
          "output_type": "error",
          "ename": "KeyboardInterrupt",
          "evalue": "ignored",
          "traceback": [
            "\u001b[0;31m---------------------------------------------------------------------------\u001b[0m",
            "\u001b[0;31mIndexError\u001b[0m                                Traceback (most recent call last)",
            "\u001b[0;32m/usr/lib/python3.7/multiprocessing/pool.py\u001b[0m in \u001b[0;36mnext\u001b[0;34m(self, timeout)\u001b[0m\n\u001b[1;32m    732\u001b[0m             \u001b[0;32mtry\u001b[0m\u001b[0;34m:\u001b[0m\u001b[0;34m\u001b[0m\u001b[0;34m\u001b[0m\u001b[0m\n\u001b[0;32m--> 733\u001b[0;31m                 \u001b[0mitem\u001b[0m \u001b[0;34m=\u001b[0m \u001b[0mself\u001b[0m\u001b[0;34m.\u001b[0m\u001b[0m_items\u001b[0m\u001b[0;34m.\u001b[0m\u001b[0mpopleft\u001b[0m\u001b[0;34m(\u001b[0m\u001b[0;34m)\u001b[0m\u001b[0;34m\u001b[0m\u001b[0;34m\u001b[0m\u001b[0m\n\u001b[0m\u001b[1;32m    734\u001b[0m             \u001b[0;32mexcept\u001b[0m \u001b[0mIndexError\u001b[0m\u001b[0;34m:\u001b[0m\u001b[0;34m\u001b[0m\u001b[0;34m\u001b[0m\u001b[0m\n",
            "\u001b[0;31mIndexError\u001b[0m: pop from an empty deque",
            "\nDuring handling of the above exception, another exception occurred:\n",
            "\u001b[0;31mKeyboardInterrupt\u001b[0m                         Traceback (most recent call last)",
            "\u001b[0;32m<ipython-input-114-37c76bd64d92>\u001b[0m in \u001b[0;36m<module>\u001b[0;34m()\u001b[0m\n\u001b[1;32m      2\u001b[0m \u001b[0mclf\u001b[0m \u001b[0;34m=\u001b[0m \u001b[0mNaiveBayesClassifier\u001b[0m\u001b[0;34m(\u001b[0m\u001b[0;34m\"parzen\"\u001b[0m\u001b[0;34m,\u001b[0m \u001b[0mh\u001b[0m\u001b[0;34m=\u001b[0m\u001b[0mh\u001b[0m\u001b[0;34m)\u001b[0m\u001b[0;34m\u001b[0m\u001b[0;34m\u001b[0m\u001b[0m\n\u001b[1;32m      3\u001b[0m \u001b[0mclf\u001b[0m\u001b[0;34m.\u001b[0m\u001b[0mfit\u001b[0m\u001b[0;34m(\u001b[0m\u001b[0mX_train\u001b[0m\u001b[0;34m,\u001b[0m \u001b[0my_train\u001b[0m\u001b[0;34m)\u001b[0m\u001b[0;34m\u001b[0m\u001b[0;34m\u001b[0m\u001b[0m\n\u001b[0;32m----> 4\u001b[0;31m \u001b[0mpreds\u001b[0m\u001b[0;34m,\u001b[0m \u001b[0mprobs\u001b[0m \u001b[0;34m=\u001b[0m \u001b[0mclf\u001b[0m\u001b[0;34m.\u001b[0m\u001b[0mpredict\u001b[0m\u001b[0;34m(\u001b[0m\u001b[0mX_test\u001b[0m\u001b[0;34m)\u001b[0m\u001b[0;34m\u001b[0m\u001b[0;34m\u001b[0m\u001b[0m\n\u001b[0m\u001b[1;32m      5\u001b[0m \u001b[0;34m\u001b[0m\u001b[0m\n\u001b[1;32m      6\u001b[0m \u001b[0mprint\u001b[0m\u001b[0;34m(\u001b[0m\u001b[0;34mf\"Accuracy of classifier on test data: {(preds == y_test).mean()}\"\u001b[0m\u001b[0;34m)\u001b[0m\u001b[0;34m\u001b[0m\u001b[0;34m\u001b[0m\u001b[0m\n",
            "\u001b[0;32m<ipython-input-110-782c9c2e79b5>\u001b[0m in \u001b[0;36mpredict\u001b[0;34m(self, X)\u001b[0m\n\u001b[1;32m     91\u001b[0m                      initargs=(X,)) as pool:\n\u001b[1;32m     92\u001b[0m \u001b[0;34m\u001b[0m\u001b[0m\n\u001b[0;32m---> 93\u001b[0;31m             \u001b[0;32mfor\u001b[0m \u001b[0midx\u001b[0m\u001b[0;34m,\u001b[0m \u001b[0midx_log_probs\u001b[0m \u001b[0;32min\u001b[0m \u001b[0menumerate\u001b[0m\u001b[0;34m(\u001b[0m\u001b[0mpool\u001b[0m\u001b[0;34m.\u001b[0m\u001b[0mimap\u001b[0m\u001b[0;34m(\u001b[0m\u001b[0mworker_fn\u001b[0m\u001b[0;34m,\u001b[0m \u001b[0mself\u001b[0m\u001b[0;34m.\u001b[0m\u001b[0mpdf_estimators\u001b[0m\u001b[0;34m)\u001b[0m\u001b[0;34m)\u001b[0m\u001b[0;34m:\u001b[0m\u001b[0;34m\u001b[0m\u001b[0;34m\u001b[0m\u001b[0m\n\u001b[0m\u001b[1;32m     94\u001b[0m                 \u001b[0mlog_probs\u001b[0m\u001b[0;34m[\u001b[0m\u001b[0;34m...\u001b[0m\u001b[0;34m,\u001b[0m \u001b[0midx\u001b[0m\u001b[0;34m]\u001b[0m \u001b[0;34m=\u001b[0m \u001b[0midx_log_probs\u001b[0m \u001b[0;34m+\u001b[0m \u001b[0mself\u001b[0m\u001b[0;34m.\u001b[0m\u001b[0mclass_log_probs_\u001b[0m\u001b[0;34m[\u001b[0m\u001b[0midx\u001b[0m\u001b[0;34m]\u001b[0m\u001b[0;34m\u001b[0m\u001b[0;34m\u001b[0m\u001b[0m\n\u001b[1;32m     95\u001b[0m \u001b[0;34m\u001b[0m\u001b[0m\n",
            "\u001b[0;32m/usr/lib/python3.7/multiprocessing/pool.py\u001b[0m in \u001b[0;36mnext\u001b[0;34m(self, timeout)\u001b[0m\n\u001b[1;32m    735\u001b[0m                 \u001b[0;32mif\u001b[0m \u001b[0mself\u001b[0m\u001b[0;34m.\u001b[0m\u001b[0m_index\u001b[0m \u001b[0;34m==\u001b[0m \u001b[0mself\u001b[0m\u001b[0;34m.\u001b[0m\u001b[0m_length\u001b[0m\u001b[0;34m:\u001b[0m\u001b[0;34m\u001b[0m\u001b[0;34m\u001b[0m\u001b[0m\n\u001b[1;32m    736\u001b[0m                     \u001b[0;32mraise\u001b[0m \u001b[0mStopIteration\u001b[0m \u001b[0;32mfrom\u001b[0m \u001b[0;32mNone\u001b[0m\u001b[0;34m\u001b[0m\u001b[0;34m\u001b[0m\u001b[0m\n\u001b[0;32m--> 737\u001b[0;31m                 \u001b[0mself\u001b[0m\u001b[0;34m.\u001b[0m\u001b[0m_cond\u001b[0m\u001b[0;34m.\u001b[0m\u001b[0mwait\u001b[0m\u001b[0;34m(\u001b[0m\u001b[0mtimeout\u001b[0m\u001b[0;34m)\u001b[0m\u001b[0;34m\u001b[0m\u001b[0;34m\u001b[0m\u001b[0m\n\u001b[0m\u001b[1;32m    738\u001b[0m                 \u001b[0;32mtry\u001b[0m\u001b[0;34m:\u001b[0m\u001b[0;34m\u001b[0m\u001b[0;34m\u001b[0m\u001b[0m\n\u001b[1;32m    739\u001b[0m                     \u001b[0mitem\u001b[0m \u001b[0;34m=\u001b[0m \u001b[0mself\u001b[0m\u001b[0;34m.\u001b[0m\u001b[0m_items\u001b[0m\u001b[0;34m.\u001b[0m\u001b[0mpopleft\u001b[0m\u001b[0;34m(\u001b[0m\u001b[0;34m)\u001b[0m\u001b[0;34m\u001b[0m\u001b[0;34m\u001b[0m\u001b[0m\n",
            "\u001b[0;32m/usr/lib/python3.7/threading.py\u001b[0m in \u001b[0;36mwait\u001b[0;34m(self, timeout)\u001b[0m\n\u001b[1;32m    294\u001b[0m         \u001b[0;32mtry\u001b[0m\u001b[0;34m:\u001b[0m    \u001b[0;31m# restore state no matter what (e.g., KeyboardInterrupt)\u001b[0m\u001b[0;34m\u001b[0m\u001b[0;34m\u001b[0m\u001b[0m\n\u001b[1;32m    295\u001b[0m             \u001b[0;32mif\u001b[0m \u001b[0mtimeout\u001b[0m \u001b[0;32mis\u001b[0m \u001b[0;32mNone\u001b[0m\u001b[0;34m:\u001b[0m\u001b[0;34m\u001b[0m\u001b[0;34m\u001b[0m\u001b[0m\n\u001b[0;32m--> 296\u001b[0;31m                 \u001b[0mwaiter\u001b[0m\u001b[0;34m.\u001b[0m\u001b[0macquire\u001b[0m\u001b[0;34m(\u001b[0m\u001b[0;34m)\u001b[0m\u001b[0;34m\u001b[0m\u001b[0;34m\u001b[0m\u001b[0m\n\u001b[0m\u001b[1;32m    297\u001b[0m                 \u001b[0mgotit\u001b[0m \u001b[0;34m=\u001b[0m \u001b[0;32mTrue\u001b[0m\u001b[0;34m\u001b[0m\u001b[0;34m\u001b[0m\u001b[0m\n\u001b[1;32m    298\u001b[0m             \u001b[0;32melse\u001b[0m\u001b[0;34m:\u001b[0m\u001b[0;34m\u001b[0m\u001b[0;34m\u001b[0m\u001b[0m\n",
            "\u001b[0;31mKeyboardInterrupt\u001b[0m: "
          ]
        }
      ]
    },
    {
      "cell_type": "markdown",
      "metadata": {
        "id": "0xk63hOPIIYQ"
      },
      "source": [
        "### Q8.B"
      ]
    },
    {
      "cell_type": "code",
      "metadata": {
        "id": "e-Vk4GjdIHud"
      },
      "source": [
        "H = np.array([0.1, 1, 10]) * X_train.std()\n",
        "\n",
        "accs = []\n",
        "for h in H:\n",
        "  clf = NaiveBayesClassifier(\"parzen\", h=h)\n",
        "  clf.fit(X_train, y_train)\n",
        "  preds, probs = clf.predict(X_test)\n",
        "  accs.append(\n",
        "      (preds == y_test).mean()\n",
        "  )\n",
        "\n",
        "print(\n",
        "    \"\\n\".join([f\"h = {h:.3f} --> acc = {acc:.3f}\" for h, acc in zip(H, accs)])\n",
        ")"
      ],
      "execution_count": null,
      "outputs": []
    },
    {
      "cell_type": "markdown",
      "metadata": {
        "id": "a1xgkwyAJ2Y4"
      },
      "source": [
        "### Q8.C"
      ]
    },
    {
      "cell_type": "code",
      "metadata": {
        "colab": {
          "base_uri": "https://localhost:8080/"
        },
        "id": "_jBy-qliJ4E8",
        "outputId": "e31de3aa-faba-4d7d-8a35-680caeb52e69"
      },
      "source": [
        "K = np.array([2 , 5, 10])\n",
        "\n",
        "accs = []\n",
        "for k in K:\n",
        "  print(k)\n",
        "  clf = NaiveBayesClassifier(\"knn\", k=k)\n",
        "  clf.fit(X_train, y_train)\n",
        "  preds, probs = clf.predict(X_test)\n",
        "  preds = preds\n",
        "  accs.append(\n",
        "      (preds == y_test).mean()\n",
        "  )\n",
        "\n",
        "print(\n",
        "    \"\\n\".join([f\"k = {k:.3f} --> acc = {acc:.3f}\" for k, acc in zip(K, accs)])\n",
        ")"
      ],
      "execution_count": null,
      "outputs": [
        {
          "output_type": "stream",
          "text": [
            "2\n",
            "5\n",
            "10\n",
            "k = 2.000 --> acc = 0.786\n",
            "k = 5.000 --> acc = 0.795\n",
            "k = 10.000 --> acc = 0.795\n"
          ],
          "name": "stdout"
        }
      ]
    },
    {
      "cell_type": "markdown",
      "metadata": {
        "id": "VjB0pH7GyvuM"
      },
      "source": [
        "### Q8.D"
      ]
    },
    {
      "cell_type": "code",
      "metadata": {
        "id": "KVtRyzmxudbV",
        "colab": {
          "base_uri": "https://localhost:8080/"
        },
        "outputId": "17c95b4b-4dc5-4faf-ae24-33b4ea8b1c5a"
      },
      "source": [
        "N = [2**n for n in range(4, 13)]\n",
        "\n",
        "d = X_train.shape[1]\n",
        "\n",
        "accs = {\"parzen\": [], \"knn\": []}\n",
        "for n in N:\n",
        "    h = (n ** - (1/ (2* d)))\n",
        "    print(n, h, np.sqrt(n))\n",
        "    clf = NaiveBayesClassifier(\"parzen\", h=h)\n",
        "    indices = np.random.choice(np.arange(X_train.shape[0]), size=(n,))\n",
        "    clf.fit(\n",
        "        X_train[indices,:], y_train[indices]\n",
        "    )\n",
        "    preds, probs = clf.predict(\n",
        "        X_test   \n",
        "    )\n",
        "    accs[\"parzen\"].append(\n",
        "        (preds == y_test).mean() * 100\n",
        "    )\n",
        "    clf = NaiveBayesClassifier(\"knn\", k=int(np.sqrt(n)))\n",
        "    clf.fit(\n",
        "        X_train[indices, :], y_train[indices]\n",
        "    )\n",
        "    preds, probs = clf.predict(\n",
        "        X_test   \n",
        "    )\n",
        "    accs[\"knn\"].append(\n",
        "        (preds == y_test).mean() * 100\n",
        "    )\n"
      ],
      "execution_count": null,
      "outputs": [
        {
          "output_type": "stream",
          "text": [
            "16 0.8572439828530728 4.0\n",
            "32 0.8248605943353026 5.656854249492381\n",
            "64 0.7937005259840998 8.0\n",
            "128 0.7637175654573216 11.313708498984761\n",
            "256 0.7348672461377994 16.0\n",
            "512 0.7071067811865476 22.627416997969522\n",
            "1024 0.6803950000871885 32.0\n",
            "2048 0.6546922875874868 45.254833995939045\n",
            "4096 0.6299605249474366 64.0\n"
          ],
          "name": "stdout"
        }
      ]
    },
    {
      "cell_type": "code",
      "metadata": {
        "id": "wayTJN6mzZp4",
        "colab": {
          "base_uri": "https://localhost:8080/",
          "height": 642
        },
        "outputId": "e8f6c130-2d52-4571-b7ce-0f4a571541f1"
      },
      "source": [
        "accs_df = pd.DataFrame(accs)\n",
        "\n",
        "fig, axes = plt.subplots(2, 1, figsize=(9,9))\n",
        "ax = axes[0]\n",
        "ax.plot(\n",
        "    N, accs_df[\"parzen\"], label=\"Parzen\", color=\"royalblue\"\n",
        ")\n",
        "ax.set_title(\"Parzen (h = n ** -1/2d)\")\n",
        "ax.set_xlabel(\"N\")\n",
        "ax.set_ylabel(\"Accuracy%\")\n",
        "\n",
        "ax = axes[1]\n",
        "ax.plot(\n",
        "    N, accs_df[\"knn\"], label=\"KNN\", color=\"royalblue\"\n",
        ")\n",
        "\n",
        "ax.set_title(\"KNN (k = Sqrt(N))\")\n",
        "ax.set_xlabel(\"N\")\n",
        "ax.set_ylabel(\"Accuracy%\")\n",
        "\n",
        "fig.suptitle(\"Effects of Increasing N and K in Parzen and KNN Respectively\")    \n",
        "plt.tight_layout(\n",
        "    rect=(0.02,0.02, 0.98, 0.95)\n",
        ")"
      ],
      "execution_count": null,
      "outputs": [
        {
          "output_type": "display_data",
          "data": {
            "image/png": "[encoded data removed]",
            "text/plain": [
              "<Figure size 648x648 with 2 Axes>"
            ]
          },
          "metadata": {
            "tags": [],
            "needs_background": "light"
          }
        }
      ]
    },
    {
      "cell_type": "markdown",
      "metadata": {
        "id": "zyTC7jQPaqOD"
      },
      "source": [
        "# Q9\n",
        "\n",
        "### Implementations"
      ]
    },
    {
      "cell_type": "code",
      "metadata": {
        "id": "RPTLCC5Barve"
      },
      "source": [
        "class BaseSelection:\n",
        "  def __init__(self, k):\n",
        "    self.k = k\n",
        "    self.clf = GaussianNB()\n",
        "    self.selected_indices = None\n",
        "\n",
        "  def fit(self, X, y, X_test, y_test):\n",
        "    pass\n",
        "\n",
        "class ForwardSelection(BaseSelection):\n",
        "  def fit(self, X, y, X_test, y_test):\n",
        "    self.selected_indices = []\n",
        "    self.rmse = []\n",
        "    while len(self.selected_indices) < self.k:\n",
        "      best_indice = 0\n",
        "      best_acc = -np.inf\n",
        "      curr_sse = 0\n",
        "      for i in range(X.shape[1]):\n",
        "        union = sorted(self.selected_indices + [best_indice])\n",
        "        self.clf.fit(X[..., union], y)\n",
        "        preds = self.clf.predict(X_test[..., union])\n",
        "        acc = (preds == y_test).mean()\n",
        "        curr_sse += (1 - acc) ** 2\n",
        "        if best_acc < acc:\n",
        "          best_acc = acc\n",
        "          best_indice = i\n",
        "      self.rmse.append(\n",
        "          np.sqrt(curr_sse/X.shape[1])\n",
        "          )\n",
        "      self.selected_indices.append(best_indice)\n",
        "    self.selected_indices = sorted(self.selected_indices)\n",
        "\n",
        "class BackwardSelection(BaseSelection):\n",
        "  def fit(self, X, y, X_test, y_test):\n",
        "    self.selected_indices = np.arange(X.shape[1])\n",
        "    self.rmse = []\n",
        "    while len(self.selected_indices) > self.k:\n",
        "      worst_indice = 0\n",
        "      worst_acc = +np.inf\n",
        "      curr_sse = 0\n",
        "      for i in range(X.shape[1]):\n",
        "        union = sorted(self.selected_indices + [best_indice])\n",
        "        self.clf.fit(X[..., union], y)\n",
        "        preds = self.clf.predict(X_test[..., union])\n",
        "        acc = (preds == y_test).mean()\n",
        "        curr_sse += (1 - acc) ** 2\n",
        "        if worst_acc > acc:\n",
        "          worst_acc = acc\n",
        "          worst_indice = i\n",
        "      self.rmse.append(\n",
        "          np.sqrt(curr_sse/X.shape[1])\n",
        "          )\n",
        "      self.selected_indices.remove(worst_indice)\n",
        "    self.selected_indices = sorted(self.selected_indices)"
      ],
      "execution_count": null,
      "outputs": []
    },
    {
      "cell_type": "markdown",
      "metadata": {
        "id": "rHSO0mC5j-JL"
      },
      "source": [
        "### Preprocessing"
      ]
    },
    {
      "cell_type": "code",
      "metadata": {
        "id": "ooAtaAKuj9SQ"
      },
      "source": [
        "X_train, y_train = mnist_train[\"image\"].to_numpy(), mnist_train[\"label\"].to_numpy()\n",
        "X_test, y_test = mnist_test[\"image\"].to_numpy(), mnist_test[\"label\"].to_numpy()\n",
        "\n",
        "X_train = np.array([x for x in X_train])\n",
        "X_test = np.array([x for x in X_test])\n",
        "\n",
        "\n",
        "reducer = Pipeline([\n",
        "                    (\"Scaler\", StandardScaler()),\n",
        "                    # (\"PCA\", PCA(n_components=0.9))\n",
        "                    ])\n",
        "\n",
        "X_train = reducer.fit_transform(X_train)\n",
        "X_test = reducer.transform(X_test)\n",
        "\n",
        "print(X_train.shape)"
      ],
      "execution_count": null,
      "outputs": []
    },
    {
      "cell_type": "markdown",
      "metadata": {
        "id": "paytgBH4jv1j"
      },
      "source": [
        "### Q9.A"
      ]
    },
    {
      "cell_type": "code",
      "metadata": {
        "id": "yGiprBYHjoIu"
      },
      "source": [
        "k = 40\n",
        "\n",
        "selector = ForwardSelection(k)\n",
        "selector.fit(X_train, \n",
        "             y_train, \n",
        "             X_test, \n",
        "             y_test)\n",
        "\n",
        "print(selector.rmse)"
      ],
      "execution_count": null,
      "outputs": []
    },
    {
      "cell_type": "code",
      "metadata": {
        "id": "qLHf8Sz-zODK"
      },
      "source": [
        "clf = GaussianNB()\n",
        "clf.fit(X_train, y_train)\n",
        "preds = clf.predict(X_test)\n",
        "(preds == y_test).mean()"
      ],
      "execution_count": null,
      "outputs": []
    },
    {
      "cell_type": "code",
      "metadata": {
        "id": "PfI-7V5Krp2k"
      },
      "source": [
        ""
      ],
      "execution_count": null,
      "outputs": []
    }
  ]
}